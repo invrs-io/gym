{
 "cells": [
  {
   "cell_type": "markdown",
   "metadata": {},
   "source": [
    "# Meta-atom library\n",
    "\n",
    "The meta-atom library challenge entails designing a library of sub-wavelength meta-atoms that impart a phase shift to normally-incident plane waves. The challenge targets three wavelengths: 450 nm, 550 nm, and 650 nm, and so a meta-lens built from the meta-atom library could be used for broadband visible light applications.\n",
    "\n",
    "\n",
    "The challenge is based on \"[Dispersion-engineered metasurfaces reaching broadband 90% relative diffraction efficiency](https://www.nature.com/articles/s41467-023-38185-2)\" by Chen et al., in which meta-atoms were found by a particle swarm approach and FDTD simulation."
   ]
  },
  {
   "cell_type": "markdown",
   "metadata": {},
   "source": [
    "## Simulating existing designs\n",
    "\n",
    "In this notebook we will evaluate a solution to the challenge from the [invrs-gym paper](https://arxiv.org/abs/2410.24132)."
   ]
  },
  {
   "cell_type": "code",
   "execution_count": null,
   "metadata": {},
   "outputs": [],
   "source": [
    "from totypes import json_utils\n",
    "\n",
    "import numpy as onp\n",
    "import matplotlib.pyplot as plt\n",
    "from skimage import measure\n",
    "\n",
    "file = \"241024_mfschubert_a522d59bd3da6f788398482bf559d58ef86530bf8ed491b602087d2d64ac6c86.json\"\n",
    "\n",
    "with open(f\"../../../reference_designs/meta_atom_library/{file}\", \"r\") as f:\n",
    "    serialized = f.read()\n",
    "\n",
    "params = json_utils.pytree_from_json(serialized)\n",
    "\n",
    "# Plot the eight meta-atoms.\n",
    "_, axs = plt.subplots(1, 8, figsize=(8, 2))\n",
    "for i, ax in enumerate(axs.flatten()):\n",
    "    im = ax.imshow(1 - params[\"density\"].array[i], cmap=\"gray\")\n",
    "    im.set_clim([-2, 1])\n",
    "    for c in measure.find_contours(onp.array(params[\"density\"].array[i])):\n",
    "        ax.plot(c[:, 1], c[:, 0], \"k\", lw=1)\n",
    "    ax.set_xticks([])\n",
    "    ax.set_yticks([])\n",
    "plt.subplots_adjust(hspace=0.1, wspace=0.1)"
   ]
  },
  {
   "cell_type": "markdown",
   "metadata": {},
   "source": [
    "Figures 2a and 2b of Chen et al. plot the expected relative phase for the conserved and converted polarizations. We extracted the values from the figure, and replot them here. They will serve as a reference against which we compare the wavelength-dependent relative phase for the designs plotted above."
   ]
  },
  {
   "cell_type": "code",
   "execution_count": null,
   "metadata": {},
   "outputs": [],
   "source": [
    "# Data from figs 2a and 2b of Chen et al.\n",
    "expected_conserved = (\n",
    "    (0.000, 0.451, 1.212, 1.985, 2.471, 3.843, 4.641, 5.489),  # 450 nm\n",
    "    (0.000, 0.925, 1.898, 2.783, 3.195, 4.354, 5.140, 5.738),  # 550 nm\n",
    "    (0.000, 0.501, 1.137, 1.910, 2.259, 3.693, 4.005, 4.641),  # 650 nm\n",
    ")\n",
    "expected_converted = (\n",
    "    (0.000, 0.391, 1.137, 1.821, 2.194, 3.749, 4.632, 5.465),  # 450 nm\n",
    "    (0.000, 0.900, 2.331, 2.567, 3.052, 4.308, 4.433, 5.540),  # 550 nm\n",
    "    (0.000, 0.502, 1.137, 1.945, 2.306, 3.600, 3.861, 4.843),  # 650 nm    \n",
    ")\n",
    "\n",
    "_, axs = plt.subplots(2, 3, figsize=(8, 5))\n",
    "for i, wavelength in enumerate([0.45, 0.55, 0.65]):\n",
    "    axs[0, i].set_ylim([-0.2, 2 * onp.pi + 0.2])\n",
    "    axs[1, i].set_ylim([-0.2, 2 * onp.pi + 0.2])\n",
    "    axs[0, i].set_title(f\"$\\lambda$={wavelength:.3f}$\\mu$m\", fontsize=10)\n",
    "    if i > 0:\n",
    "        axs[0, i].set_yticklabels([])\n",
    "        axs[1, i].set_yticklabels([])\n",
    "    axs[0, i].set_xticklabels([])\n",
    "    axs[1, i].set_xlabel(\"meta-atom index\")\n",
    "\n",
    "    axs[0, i].plot((0, 7), (0, 2 * onp.pi * 7 / 8), \"k--\", lw=1)\n",
    "    axs[1, i].plot((0, 7), (0, 2 * onp.pi * 7 / 8), \"k--\", lw=1)\n",
    "\n",
    "    axs[0, i].plot(expected_conserved[i], \"o-\")\n",
    "    axs[1, i].plot(expected_converted[i], \"o-\")\n",
    "\n",
    "\n",
    "axs[0, 0].set_ylabel(\"relative phase\\nconserved polarization\")\n",
    "_ = axs[1, 0].set_ylabel(\"relative phase\\nconverted polarization\")"
   ]
  },
  {
   "cell_type": "markdown",
   "metadata": {},
   "source": [
    "Now, we'll simulate the above nanostructures and compute the phase imparted by each upon incident right-hand and left-hand circularly polarized light. We do this using the `meta_atom_library` challenge."
   ]
  },
  {
   "cell_type": "code",
   "execution_count": null,
   "metadata": {},
   "outputs": [],
   "source": [
    "import jax.numpy as jnp\n",
    "from invrs_gym.challenges import meta_atom_library\n",
    "from invrs_gym.utils import transforms\n",
    "\n",
    "challenge = meta_atom_library()\n",
    "response, _ = challenge.component.response(params)"
   ]
  },
  {
   "cell_type": "markdown",
   "metadata": {},
   "source": [
    "Extract the phase of the conserved and converted polarization components, and compare these to values taken from Chen et al. We also plot the transmission into the conserved and converted polarization modes."
   ]
  },
  {
   "cell_type": "code",
   "execution_count": null,
   "metadata": {},
   "outputs": [],
   "source": [
    "def _relative_phase(t):\n",
    "    t = onp.array(t)\n",
    "    phase = onp.angle(t)\n",
    "    phase = phase - phase[0, ...]\n",
    "    offsets = onp.arange(-1, 2) * 2 * onp.pi\n",
    "    for i in range(1, 8):\n",
    "        target = i * onp.pi / 4\n",
    "        for j in range(3):\n",
    "            candidates = phase[i, j] + offsets\n",
    "            idx = onp.argmin(onp.abs(target - candidates))\n",
    "            phase[i, j] = candidates[idx]\n",
    "    return phase\n",
    "\n",
    "phase_conserved = _relative_phase(response.transmission_rhcp[:, :, 0])\n",
    "phase_converted = _relative_phase(response.transmission_rhcp[:, :, 1])\n",
    "\n",
    "_, axs = plt.subplots(3, 3, figsize=(8, 7))\n",
    "for i, wavelength in enumerate([0.45, 0.55, 0.65]):\n",
    "    axs[0, i].set_ylim([-0.2, 2 * onp.pi + 0.2])\n",
    "    axs[1, i].set_ylim([-0.2, 2 * onp.pi + 0.2])\n",
    "    axs[0, i].set_title(f\"$\\lambda$={wavelength:.3f}$\\mu$m\", fontsize=10)\n",
    "    if i > 0:\n",
    "        axs[0, i].set_yticklabels([])\n",
    "        axs[1, i].set_yticklabels([])\n",
    "    axs[0, i].set_xticklabels([])\n",
    "    axs[1, i].set_xlabel(\"meta-atom index\")\n",
    "\n",
    "    axs[0, i].plot((0, 7), (0, 2 * onp.pi * 7 / 8), \"k--\", lw=1)\n",
    "    axs[1, i].plot((0, 7), (0, 2 * onp.pi * 7 / 8), \"k--\", lw=1)\n",
    "\n",
    "    axs[0, i].plot(expected_conserved[i], \"o-\", label=\"Chen et al.\")\n",
    "    axs[0, i].plot(phase_conserved[:, i], \"o-\", label=\"invrs-gym\")\n",
    "    axs[1, i].plot(expected_converted[i], \"o-\", label=\"Chen et al.\")\n",
    "    axs[1, i].plot(phase_converted[:, i], \"o-\", label=\"invrs-gym\")\n",
    "\n",
    "    axs[2, i].plot(onp.abs(response.transmission_rhcp[:, i, 0])**2, \"C3\", label=\"conserved\")\n",
    "    axs[2, i].plot(onp.abs(response.transmission_rhcp[:, i, 1])**2, \"C4\", label=\"converted\")\n",
    "\n",
    "axs[0, 0].legend()\n",
    "axs[0, 0].set_ylabel(\"relative phase\\nconserved polarization\")\n",
    "axs[1, 0].set_ylabel(\"relative phase\\nconverted polarization\")\n",
    "axs[2, 2].legend()\n",
    "_ = axs[2, 0].set_ylabel(\"transmission\")"
   ]
  },
  {
   "cell_type": "markdown",
   "metadata": {},
   "source": [
    "We see that the conserved polarization phase is quite linear, whereas the converted polarization is less so. This can be explained by differences in how the designs were optimized. In the paper by Chen et al., nanostructures were optimized to have linear phase profiles for both converted and conserved polarization, without directly considering the performance in e.g. a grating application. By contrast, the design from the invrs-gym paper was optimized using an objective function that considers the performance of a grating assembled from the meta-atoms, which effectively weights the phase objective with the transmission, so that overall grating performance is maximized."
   ]
  },
  {
   "cell_type": "markdown",
   "metadata": {},
   "source": [
    "## Visualizing fields\n",
    "\n",
    "Figure 1b of Chen et al. shows the phase of transmitted fields for a metagrating assembled from the meta-atom library plotted above. We'll try to produce a similar figure, and start by assembling the meta-atoms into the supercell that comprises the metagrating."
   ]
  },
  {
   "cell_type": "code",
   "execution_count": null,
   "metadata": {},
   "outputs": [],
   "source": [
    "import dataclasses\n",
    "\n",
    "# Rotate and concatenate the meta-atoms into a supercell that is 8x1 in shape, matching the\n",
    "# metagrating of Chen et al. Figure 1b.\n",
    "density_tiled = dataclasses.replace(\n",
    "    params[\"density\"],\n",
    "    array=jnp.concatenate(jnp.rot90(params[\"density\"].array, axes=(1, 2)))[jnp.newaxis, :, :],\n",
    "    fixed_void=None,\n",
    ")\n",
    "\n",
    "# Plot the supercell density.\n",
    "density_tiled_plot = onp.array(density_tiled.array[0, ...].T)\n",
    "_, ax = plt.subplots(1, 1, figsize=(8, 1))\n",
    "im = ax.imshow(1 - density_tiled_plot, cmap=\"gray\")\n",
    "im.set_clim([-2, 1])\n",
    "for c in measure.find_contours(onp.array(density_tiled_plot)):\n",
    "    ax.plot(c[:, 1], c[:, 0], \"k\", lw=1)\n",
    "ax.set_xticks([])\n",
    "_ = ax.set_yticks([])"
   ]
  },
  {
   "cell_type": "markdown",
   "metadata": {},
   "source": [
    "Next, use the `simulate_library` function from the `library.component` module. This function allows us to provide supercells for simulation, as well as batched individual meta-atoms."
   ]
  },
  {
   "cell_type": "code",
   "execution_count": null,
   "metadata": {},
   "outputs": [],
   "source": [
    "import fmmax\n",
    "from invrs_gym.challenges.library import component\n",
    "\n",
    "# Since the supercell is larger, it requires more Fourier terms to ensure accuracy.\n",
    "expansion = fmmax.generate_expansion(\n",
    "    primitive_lattice_vectors=fmmax.LatticeVectors(\n",
    "        u=fmmax.X * challenge.component.spec.pitch * 8,\n",
    "        v=fmmax.Y * challenge.component.spec.pitch,\n",
    "    ),\n",
    "    approximate_num_terms=1200,\n",
    ")\n",
    "\n",
    "# Ensure that the `thickness_metasurface` attribute is a float, as required by\n",
    "# the simulation method. In the default spec it is a bounded array, which is\n",
    "# useful for optimization purposes.\n",
    "spec = dataclasses.replace(challenge.component.spec, thickness_metasurface=0.6)\n",
    "\n",
    "_, aux_fields = component.simulate_library(\n",
    "    density=density_tiled,\n",
    "    spec=spec,\n",
    "    wavelength=jnp.asarray([0.45, 0.55, 0.65]),\n",
    "    expansion=expansion,\n",
    "    compute_fields=True,\n",
    ")"
   ]
  },
  {
   "cell_type": "markdown",
   "metadata": {},
   "source": [
    "The phasefronts for fields in the metagrating are then plotted below."
   ]
  },
  {
   "cell_type": "code",
   "execution_count": null,
   "metadata": {},
   "outputs": [],
   "source": [
    "ex, ey, ez = aux_fields[\"efield_xz\"]\n",
    "\n",
    "x, y, z = aux_fields[\"coordinates_xz\"]\n",
    "xplot, zplot = jnp.meshgrid(x, z, indexing=\"ij\")\n",
    "z_metasurface = challenge.component.spec.thickness_ambient\n",
    "z_substrate = z_metasurface + params[\"thickness\"].array\n",
    "\n",
    "_, axs = plt.subplots(3, 1, figsize=(6, 10))\n",
    "\n",
    "for i, (color, wavelength, ax) in enumerate(zip([\"b\", \"g\", \"r\"], [0.45, 0.55, 0.65], axs)):\n",
    "    cmap = plt.cm.colors.LinearSegmentedColormap.from_list(\"b\", [\"w\", color], N=256)\n",
    "    im = ax.pcolormesh(xplot, zplot, jnp.angle(ex)[0, i, :, :, 0], cmap=cmap)\n",
    "    ax.axis(\"equal\")\n",
    "    ax.set_ylim(ax.get_ylim()[::-1])\n",
    "    ax.plot(x, jnp.full_like(x, z_metasurface), 'k--')\n",
    "    ax.plot(x, jnp.full_like(x, z_substrate), 'k--')\n",
    "    ax.axis(False)\n",
    "    ax.set_title(f\"$\\lambda$={wavelength:.3f}$\\mu$m\")\n",
    "    plt.colorbar(im)"
   ]
  }
 ],
 "metadata": {
  "kernelspec": {
   "display_name": "invrs",
   "language": "python",
   "name": "python3"
  },
  "language_info": {
   "codemirror_mode": {
    "name": "ipython",
    "version": 3
   },
   "file_extension": ".py",
   "mimetype": "text/x-python",
   "name": "python",
   "nbconvert_exporter": "python",
   "pygments_lexer": "ipython3",
   "version": "3.10.12"
  }
 },
 "nbformat": 4,
 "nbformat_minor": 2
}
