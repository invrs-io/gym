{
 "cells": [
  {
   "cell_type": "markdown",
   "metadata": {},
   "source": [
    "# Bayer sorter\n",
    "\n",
    "The bayer sorter challenge involves the design of a Si3N4 metasurface to split light in a wavelength-dependent way, so that red, green, and blue light is predominantly collected in red, green, and blue subpixels in a sensor array. The challenge is based on [Pixel-level Bayer-type colour router based on metasurfaces](https://www.nature.com/articles/s41467-022-31019-7) by Zou et al."
   ]
  },
  {
   "cell_type": "markdown",
   "metadata": {},
   "source": [
    "## Simulating an existing design\n",
    "\n",
    "We'll begin by loading, visualizing, and simulating the design from Supplementary Figure 2 of Zou et al."
   ]
  },
  {
   "cell_type": "code",
   "execution_count": null,
   "metadata": {},
   "outputs": [],
   "source": [
    "import matplotlib.pyplot as plt\n",
    "import numpy as onp\n",
    "from skimage import measure\n",
    "\n",
    "design = onp.genfromtxt(\"../../../reference_designs/bayer/zou.csv\", delimiter=\",\")\n",
    "\n",
    "plt.figure(figsize=(3, 3))\n",
    "ax = plt.subplot(111)\n",
    "im = plt.imshow(1 - design, cmap=\"gray\")\n",
    "im.set_clim([-2, 1])\n",
    "ax.set_xticks([])\n",
    "ax.set_yticks([])\n",
    "for c in measure.find_contours(design):\n",
    "    plt.plot(c[:, 1], c[:, 0], 'k', lw=1)"
   ]
  },
  {
   "cell_type": "markdown",
   "metadata": {},
   "source": [
    "Next, create the `bayer_sorter` challenge, which enables us to simulate and evaluate a bayer sorter design.\n",
    "\n",
    "The default simulation parameters are chosen to balance accuracy and simulation cost. For this notebook, we'll override these with settings that yield more accurate results: more terms in the Fourier basis, and more wavelengths."
   ]
  },
  {
   "cell_type": "code",
   "execution_count": null,
   "metadata": {
    "tags": [
     "hide-output"
    ]
   },
   "outputs": [],
   "source": [
    "import dataclasses\n",
    "import jax.numpy as jnp\n",
    "from invrs_gym.challenges.bayer import challenge as bayer_challenge\n",
    "\n",
    "challenge = bayer_challenge.bayer_sorter(\n",
    "    sim_params=dataclasses.replace(\n",
    "        bayer_challenge.BAYER_SIM_PARAMS,\n",
    "        approximate_num_terms=800,\n",
    "        wavelength=jnp.arange(0.405, 0.7, 0.02),\n",
    "    )\n",
    ")"
   ]
  },
  {
   "cell_type": "markdown",
   "metadata": {},
   "source": [
    " The `params` or optimization variables of the challenge include the metasurface pattern and also the metasurface thickness and metasurface-to-focal-plane separation. We'll obtain default initial parameters from the challenge, and then overwrite the metasurface pattern with the array loaded and plotted above."
   ]
  },
  {
   "cell_type": "code",
   "execution_count": null,
   "metadata": {},
   "outputs": [],
   "source": [
    "import jax\n",
    "\n",
    "params = challenge.component.init(jax.random.PRNGKey(0))\n",
    "assert params[\"density_metasurface\"].shape == design.shape\n",
    "params[\"density_metasurface\"].array = design"
   ]
  },
  {
   "cell_type": "markdown",
   "metadata": {},
   "source": [
    "Now, simulate the bayer sorter."
   ]
  },
  {
   "cell_type": "code",
   "execution_count": null,
   "metadata": {},
   "outputs": [],
   "source": [
    "response, aux = jax.jit(challenge.component.response)(params)"
   ]
  },
  {
   "cell_type": "markdown",
   "metadata": {},
   "source": [
    "The response contains the transmission for normally-incident plane wave at the specified wavelengths for both x-polarized and y-polarized fields. The transmission is reported for four sub-pixels; the first is for red, the second and third for green, and the final is for blue.\n",
    "\n",
    "Plot the transmission into red, green, and blue subpixels"
   ]
  },
  {
   "cell_type": "code",
   "execution_count": null,
   "metadata": {},
   "outputs": [],
   "source": [
    "# Average the transmission over the two different incident polarizations.\n",
    "transmission = onp.mean(response.transmission, axis=-2)\n",
    "\n",
    "transmission_blue_pixel = transmission[:, 0]\n",
    "transmission_green_pixel = transmission[:, 1] + transmission[:, 2]\n",
    "transmission_red_pixel = transmission[:, 3]\n",
    "\n",
    "plt.plot(response.wavelength, transmission_blue_pixel, \"bo-\", lw=3)\n",
    "plt.plot(response.wavelength, transmission_green_pixel, \"go-\", lw=3)\n",
    "plt.plot(response.wavelength, transmission_red_pixel, \"ro-\", lw=3)\n",
    "plt.xlabel(\"Wavelength\")\n",
    "plt.ylabel(\"Sub-pixel transmission\")\n",
    "_ = plt.ylim(-0.05, 0.7)"
   ]
  },
  {
   "cell_type": "markdown",
   "metadata": {},
   "source": [
    "The result is in very close agreement with Supplementary figure 7 of Zou et al.\n",
    "\n",
    "The transmission is computed by calculating the Poynting flux on the real-space grid at the focal plane, and summing within each sub-pixel quadrant. Since the fields are automatically computed during the course of a simulation, they are returned in `aux`.\n",
    "\n",
    "Let's plot the fields in the focal plane for each of the wavelengths."
   ]
  },
  {
   "cell_type": "code",
   "execution_count": null,
   "metadata": {},
   "outputs": [],
   "source": [
    "import ccmaps\n",
    "\n",
    "x, y = aux[\"coordinates_xy\"]\n",
    "x = jnp.squeeze(x, axis=0)\n",
    "y = jnp.squeeze(y, axis=0)\n",
    "ex, ey, ez = aux[\"efield_xy\"]\n",
    "intensity = jnp.abs(ex)**2 + jnp.abs(ey)**2 + jnp.abs(ez)**2\n",
    "intensity = jnp.mean(intensity, axis=-1)  # Average over polarizations\n",
    "\n",
    "fig, axs = plt.subplots(ncols=5, nrows=3, figsize=(9, 7))\n",
    "axs = axs.flatten()\n",
    "for i, wavelength in enumerate(response.wavelength):\n",
    "    cmap = ccmaps.cmap_for_wavelength(wavelength_nm=wavelength * 1000)\n",
    "    axs[i].pcolormesh(x, y, intensity[i, :, :], cmap=cmap)\n",
    "    axs[i].set_ylim(axs[i].get_ylim()[::-1])\n",
    "    axs[i].axis(\"equal\")\n",
    "    axs[i].axis(False)\n",
    "    axs[i].plot([jnp.amin(x), jnp.amax(x)], [jnp.mean(y), jnp.mean(y)], \"w--\", lw=1)\n",
    "    axs[i].plot([jnp.mean(x), jnp.mean(x)], [jnp.amin(y), jnp.amax(y)], \"w--\", lw=1)\n",
    "    axs[i].set_title(f\"$\\lambda$={wavelength:.3f}$\\mu$m\", fontsize=10)\n",
    "\n",
    "plt.subplots_adjust(wspace=0.05, hspace=0.25)"
   ]
  }
 ],
 "metadata": {
  "kernelspec": {
   "display_name": "invrs-cpu",
   "language": "python",
   "name": "python3"
  },
  "language_info": {
   "codemirror_mode": {
    "name": "ipython",
    "version": 3
   },
   "file_extension": ".py",
   "mimetype": "text/x-python",
   "name": "python",
   "nbconvert_exporter": "python",
   "pygments_lexer": "ipython3",
   "version": "3.10.12"
  }
 },
 "nbformat": 4,
 "nbformat_minor": 2
}
