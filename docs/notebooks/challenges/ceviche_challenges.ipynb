{
 "cells": [
  {
   "cell_type": "markdown",
   "id": "06ea300d",
   "metadata": {},
   "source": [
    "# Ceviche challenges\n",
    "\n",
    "The ceviche challenges are based on \"[Inverse design of photonic devices with strict foundry fabrication constraints](https://doi.org/10.1021/acsphotonics.2c00313)\" by M. F. Schubert et al., and the associated [github repo](https://github.com/google/ceviche-challenges). These use the [ceviche](https://github.com/fancompute/ceviche) simulation engine to solve Maxwell's equations in two dimensions, and are therefore nonphysical and serve primarily as a vehicle for evaluating optimization schemes.\n",
    "\n",
    "The challenges include a mode converter, beam splitter, waveguide bend, and wavelength demultiplexer, with a \"normal\" and \"lightweight\" version of each. Lightweight versions have lower simulation resolution and are faster to evaluate.\n",
    "\n",
    "In this notebook we'll focus on the mode converter challenge---simulating an existing design, and showing how to set up an optimization problem that will give us a new mode converter. The mode converter was also studied in \"[Validation and characterization of algorithms and software for photonics inverse design](https://opg.optica.org/josab/ViewMedia.cfm?uri=josab-41-2-A161)\" by Chen et al.; the associated [photonics-opt-testbed repo](https://github.com/NanoComp/photonics-opt-testbed) contains several example designs."
   ]
  },
  {
   "cell_type": "markdown",
   "id": "84e596a3",
   "metadata": {},
   "source": [
    "## Simulating an existing design\n",
    "\n",
    "We'll begin by loading, visualizing, and simulating one design from the [photonics-opt-testbed repo](https://github.com/NanoComp/photonics-opt-testbed)."
   ]
  },
  {
   "cell_type": "code",
   "execution_count": null,
   "id": "5766c1ef",
   "metadata": {},
   "outputs": [],
   "source": [
    "import matplotlib.pyplot as plt\n",
    "import numpy as onp\n",
    "from skimage import measure\n",
    "\n",
    "design = onp.genfromtxt(\n",
    "    \"../../../reference_designs/ceviche/mode_converter/converter_generator_circle_10_x47530832_w19_s483.csv\",\n",
    "    delimiter=\",\",\n",
    ")\n",
    "\n",
    "ax = plt.subplot(111)\n",
    "ax.set_xticks([])\n",
    "ax.set_yticks([])\n",
    "im = ax.imshow(1 - design, cmap=\"gray\")\n",
    "im.set_clim([-2, 1])\n",
    "contours = measure.find_contours(design)\n",
    "for c in contours:\n",
    "    plt.plot(c[:, 1], c[:, 0], \"k\", lw=1)"
   ]
  },
  {
   "cell_type": "markdown",
   "id": "bee71ec9",
   "metadata": {},
   "source": [
    "Now, we'll create the `ceviche_mode_converter` challenge. Since we won't be optimizing just yet, we don't actually need the challenge itself, but rather it's `component` attribute. As stated in the readme, a component represents a physical structure to be optimized, and has some intended excitation or operating condition (e.g. illumination with a particular wavelength from a particular direction). The component includes methods to obtain initial parameters, and to compute the response of a component to the excitation."
   ]
  },
  {
   "cell_type": "code",
   "execution_count": null,
   "id": "7074e71a",
   "metadata": {},
   "outputs": [],
   "source": [
    "from invrs_gym import challenges\n",
    "\n",
    "component = challenges.ceviche_mode_converter().component"
   ]
  },
  {
   "cell_type": "markdown",
   "id": "b6f41dc5",
   "metadata": {},
   "source": [
    "In this case, the component expects `totypes.Density2DArray` objects. Use the component `init` method to generate dummy parameters, and then overwrite the `array` attribute with the design we loaded above."
   ]
  },
  {
   "cell_type": "code",
   "execution_count": null,
   "id": "b0471d09",
   "metadata": {},
   "outputs": [],
   "source": [
    "import dataclasses\n",
    "import jax\n",
    "\n",
    "dummy_params = component.init(jax.random.PRNGKey(0))\n",
    "print(f\"`dummy_params` is a {type(dummy_params)}\")\n",
    "params = dataclasses.replace(dummy_params, array=design)"
   ]
  },
  {
   "cell_type": "markdown",
   "id": "40fa7fc4",
   "metadata": {},
   "source": [
    "By the way, this `Density2DArray` includes metadata about constraints, such as minimum feature width, minimum spacing, and fixed pixels. Target values can be provided to the challenge constructor, with `8` pixels (80 nm here) being the default."
   ]
  },
  {
   "cell_type": "code",
   "execution_count": null,
   "id": "87c98e2a",
   "metadata": {},
   "outputs": [],
   "source": [
    "print(f\"minimum_width={params.minimum_width}, minimum_spacing={params.minimum_spacing}\")"
   ]
  },
  {
   "cell_type": "markdown",
   "id": "15329f88",
   "metadata": {},
   "source": [
    "To simulate the mode converter, we need to pass it to the `response` method of our challenge's `component`. The basic response consists of wavelength-dependent scattering parameters; the fields are an \"auxiliary\" quantitiy."
   ]
  },
  {
   "cell_type": "code",
   "execution_count": null,
   "id": "57806515",
   "metadata": {},
   "outputs": [],
   "source": [
    "response, aux = component.response(params)"
   ]
  },
  {
   "cell_type": "markdown",
   "id": "1a080fbf",
   "metadata": {},
   "source": [
    "Now, we'll plot the scattering parameters and the fields. We'll define a plotting function so it can be reused below."
   ]
  },
  {
   "cell_type": "code",
   "execution_count": null,
   "id": "10f1e845",
   "metadata": {},
   "outputs": [],
   "source": [
    "def plot_ceviche_component(component, params, response, aux):\n",
    "    plt.figure(figsize=(11, 4))\n",
    "    ax = plt.subplot(131)\n",
    "    for i in range(response.s_parameters.shape[-1]):\n",
    "        ax.semilogy(\n",
    "            response.wavelengths_nm,\n",
    "            onp.abs(response.s_parameters[:, 0, i]) ** 2,\n",
    "            \"o-\",\n",
    "            label=\"$|S_{\" + f\"{i + 1}1\" + \"}|^2$\",\n",
    "        )\n",
    "    ax.legend()\n",
    "\n",
    "    # Get the full structure, including waveguides extending away from the deisgn.\n",
    "    density = component.ceviche_model.density(params.array)\n",
    "    contours = measure.find_contours(density)\n",
    "\n",
    "    ax = plt.subplot(132)\n",
    "    im = ax.imshow(1 - density, cmap=\"gray\")\n",
    "    im.set_clim([-2, 1])\n",
    "    for c in contours:\n",
    "        plt.plot(c[:, 1], c[:, 0], \"k\", lw=1)\n",
    "    ax.set_xticks([])\n",
    "    ax.set_yticks([])\n",
    "\n",
    "    ax = plt.subplot(133)\n",
    "    fields = onp.real(aux[\"fields\"][2, 0, :, :])\n",
    "    im = ax.imshow(fields, cmap=\"bwr\")\n",
    "    im.set_clim([-onp.amax(onp.abs(fields)), onp.amax(onp.abs(fields))])\n",
    "    for c in contours:\n",
    "        plt.plot(c[:, 1], c[:, 0], \"k\", lw=1)\n",
    "    ax.set_xticks([])\n",
    "    ax.set_yticks([])\n",
    "\n",
    "\n",
    "plot_ceviche_component(component, params, response, aux)"
   ]
  }
 ],
 "metadata": {
  "kernelspec": {
   "display_name": "Python 3 (ipykernel)",
   "language": "python",
   "name": "python3"
  },
  "language_info": {
   "codemirror_mode": {
    "name": "ipython",
    "version": 3
   },
   "file_extension": ".py",
   "mimetype": "text/x-python",
   "name": "python",
   "nbconvert_exporter": "python",
   "pygments_lexer": "ipython3",
   "version": "3.10.12"
  }
 },
 "nbformat": 4,
 "nbformat_minor": 5
}
