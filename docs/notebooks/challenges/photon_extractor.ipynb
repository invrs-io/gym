{
 "cells": [
  {
   "cell_type": "markdown",
   "id": "4c68752c",
   "metadata": {},
   "source": [
    "# Photon extractor\n",
    "\n",
    "The photon extractor challenge is based on \"[Inverse-designed photon extractors for optically addressable defect qubits](https://opg.optica.org/optica/fulltext.cfm?uri=optica-7-12-1805)\" by Chakravarthi et al.; it involves optimizing a GaP patterned layer on diamond substrate above an implanted nitrogen vacancy defect. An oxide hard mask used to pattern the GaP is left in place after the etch.\n",
    "\n",
    "The goal of the optimization is to maximize extraction of 637 nm emission, i.e. to maximize the power coupled from the defect to the ambient above the extractor. Such a device device could be useful for quantum information processing applications."
   ]
  },
  {
   "cell_type": "markdown",
   "id": "46e94436",
   "metadata": {},
   "source": [
    "## Simulating an existing design\n",
    "\n",
    "We'll begin by loading, visualizing, and simulating the design from the [invrs-gym paper](https://arxiv.org/abs/2410.24132). Later, we'll plot an x-z cross section of fields in the extractor, which is indicated below with the dashed black line."
   ]
  },
  {
   "cell_type": "code",
   "execution_count": null,
   "id": "35b965fc",
   "metadata": {},
   "outputs": [],
   "source": [
    "import matplotlib.pyplot as plt\n",
    "import numpy as onp\n",
    "from skimage import measure\n",
    "from totypes import json_utils\n",
    "\n",
    "file = \"240118_mfschubert_8569349cf4b44541ee37aa3eeed0127b70e29fb52674a4e97370fe7d95323bc7.json\"\n",
    "with open(f\"../../../reference_designs/photon_extractor/{file}\", \"r\") as f:\n",
    "    serialized = f.read()\n",
    "params = json_utils.pytree_from_json(serialized)\n",
    "\n",
    "\n",
    "plt.figure(figsize=(4, 4))\n",
    "ax = plt.subplot(111)\n",
    "im = ax.imshow(1 - params.array.T, cmap=\"gray\")\n",
    "im.set_clim([-2, 1])\n",
    "contours = measure.find_contours(params.array.T)\n",
    "for c in contours:\n",
    "    plt.plot(c[:, 1], c[:, 0], \"k\", lw=1)\n",
    "ax.set_xticks([])\n",
    "ax.set_yticks([])\n",
    "\n",
    "midpoint = params.shape[0] / 2\n",
    "ax.plot([midpoint, midpoint], [0, params.shape[0]], \"k--\")\n",
    "ax.set_xlim([120, params.shape[1] - 120])\n",
    "_ = ax.set_ylim([120, params.shape[0] - 120])"
   ]
  },
  {
   "cell_type": "markdown",
   "id": "a5ef5416",
   "metadata": {},
   "source": [
    "We will use the `Challenge` object returned by `challenges.photon_extractor` to carry out the simulation."
   ]
  },
  {
   "cell_type": "code",
   "execution_count": null,
   "id": "4bef91b2",
   "metadata": {},
   "outputs": [],
   "source": [
    "from invrs_gym import challenges\n",
    "\n",
    "challenge = challenges.photon_extractor()"
   ]
  },
  {
   "cell_type": "markdown",
   "id": "8d8e6097",
   "metadata": {},
   "source": [
    "We are now ready to simulate the photon extractor, using the `component.response` method. By default, this will not compute the fields emitted by the source (for improved performance), but we will do so here for visualization purposes."
   ]
  },
  {
   "cell_type": "code",
   "execution_count": null,
   "id": "798d4393",
   "metadata": {},
   "outputs": [],
   "source": [
    "response, aux = challenge.component.response(params, compute_fields=True)"
   ]
  },
  {
   "cell_type": "markdown",
   "id": "0a930961",
   "metadata": {},
   "source": [
    "In this challenge, we care about the enhancement in flux compared to a bare substrate. This is included in the challenge metrics, for x-, y-, and z-oriented dipoles."
   ]
  },
  {
   "cell_type": "code",
   "execution_count": null,
   "id": "52bdd7d5",
   "metadata": {},
   "outputs": [],
   "source": [
    "metrics = challenge.metrics(response, params=params, aux=aux)\n",
    "for i, orientation in enumerate([\"x\", \"y\", \"z\"]):\n",
    "    print(\n",
    "        f\"Flux enhancement for {orientation} dipole is \"\n",
    "        f\"{metrics['enhancement_flux_per_dipole'][i]:.2f}\"\n",
    "    )"
   ]
  },
  {
   "cell_type": "markdown",
   "id": "479011f9",
   "metadata": {},
   "source": [
    "The values are similar to those reported by Chakravarthi et al.\n",
    "\n",
    "Now let's visualize the fields; these are for an xz slice, and are computed for each of the dipole orientations. Plot the field magnitude for each dipole orientation with the structure overlaid."
   ]
  },
  {
   "cell_type": "code",
   "execution_count": null,
   "id": "0d8778bc",
   "metadata": {},
   "outputs": [],
   "source": [
    "import ccmaps\n",
    "from skimage import measure\n",
    "\n",
    "x, y, z = aux[\"field_coordinates\"]\n",
    "ex, ey, ez = aux[\"efield\"]\n",
    "\n",
    "assert ex.ndim == 3 and ex.shape[-1] == 3\n",
    "field_magnitude = onp.sqrt(onp.abs(ex) ** 2 + onp.abs(ey) ** 2 + onp.abs(ez) ** 2)\n",
    "maxval = onp.amax(field_magnitude)\n",
    "\n",
    "\n",
    "# Define a function that will plot the fields and overlay the structure.\n",
    "def plot_field_and_structure(ax, field, title):\n",
    "    # Plot the field.\n",
    "    xplot, zplot = onp.meshgrid(x, z, indexing=\"ij\")\n",
    "    im = ax.pcolormesh(xplot, zplot, field, cmap=ccmaps.wbgyr())\n",
    "    plt.colorbar(im)\n",
    "\n",
    "    # Overlay the structure.\n",
    "    spec = challenge.component.spec\n",
    "\n",
    "    z0 = spec.thickness_ambient\n",
    "    z1 = z0 + spec.thickness_oxide\n",
    "    z2 = z1 + spec.thickness_extractor\n",
    "\n",
    "    # Plot line at the top of the substrate.\n",
    "    ax.plot([0, onp.amax(x)], [z2, z2], \"k\", lw=1)\n",
    "\n",
    "    density_plot = params.array\n",
    "    density_plot_slice = density_plot[:, density_plot.shape[1] // 2, onp.newaxis]\n",
    "    contours = measure.find_contours(onp.tile(density_plot_slice, (1, 2)))\n",
    "    for c1, c2 in zip(contours[::2], contours[1::2]):\n",
    "        zc = onp.concatenate([c1[:, 1], c2[:, 1], [0]])\n",
    "        xc = onp.concatenate([c1[:, 0], c2[:, 0], [c1[0, 0]]]) + 0.5\n",
    "        xc = xc * (x[1] - x[0]) + x[0]\n",
    "        zcp = onp.where(zc == 0, z0, z1)\n",
    "        ax.plot(xc, zcp, \"k\", lw=1)  # Oxide\n",
    "        zcp = onp.where(zc == 0, z1, z2)\n",
    "        ax.plot(xc, zcp, \"k\", lw=1)  # GaP\n",
    "\n",
    "    ax.set_xlim([0, onp.amax(x)])\n",
    "    ax.set_ylim([onp.amax(z), 0])\n",
    "    ax.axis(\"equal\")\n",
    "    ax.set_xticks([])\n",
    "    ax.set_yticks([])\n",
    "    ax.set_title(title)\n",
    "\n",
    "\n",
    "plt.figure(figsize=(5, 12))\n",
    "plot_field_and_structure(\n",
    "    plt.subplot(311),\n",
    "    field_magnitude[:, :, 0],\n",
    "    title=f\"x dipole\\nflux enhancement={metrics['enhancement_flux_per_dipole'][0]:.2f}\",\n",
    ")\n",
    "plot_field_and_structure(\n",
    "    plt.subplot(312),\n",
    "    field_magnitude[:, :, 1],\n",
    "    title=f\"y dipole\\nflux enhancement={metrics['enhancement_flux_per_dipole'][1]:.2f}\",\n",
    ")\n",
    "plot_field_and_structure(\n",
    "    plt.subplot(313),\n",
    "    field_magnitude[:, :, 2],\n",
    "    title=f\"z dipole\\nflux enhancement={metrics['enhancement_flux_per_dipole'][2]:.2f}\",\n",
    ")"
   ]
  }
 ],
 "metadata": {
  "kernelspec": {
   "display_name": "invrs",
   "language": "python",
   "name": "python3"
  },
  "language_info": {
   "codemirror_mode": {
    "name": "ipython",
    "version": 3
   },
   "file_extension": ".py",
   "mimetype": "text/x-python",
   "name": "python",
   "nbconvert_exporter": "python",
   "pygments_lexer": "ipython3",
   "version": "3.10.12"
  }
 },
 "nbformat": 4,
 "nbformat_minor": 5
}
