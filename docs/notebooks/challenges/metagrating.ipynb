{
 "cells": [
  {
   "cell_type": "markdown",
   "id": "823a99c7",
   "metadata": {},
   "source": [
    "# Metagrating\n",
    "\n",
    "The metagrating challenge entails designing a beam deflector that couples a normally-incident plane wave into one with a polar angle of 50 degrees. This problem was studied in \"[Validation and characterization of algorithms and software for photonics inverse design](https://opg.optica.org/josab/ViewMedia.cfm?uri=josab-41-2-A161)\" by Chen et al.; the associated [photonics-opt-testbed repo](https://github.com/NanoComp/photonics-opt-testbed) contains several example designs."
   ]
  },
  {
   "cell_type": "markdown",
   "id": "7fe52a19",
   "metadata": {},
   "source": [
    "## Simulating an existing design\n",
    "\n",
    "We'll begin by loading, visualizing, and simulating designs from the [invrs-gym paper](https://arxiv.org/abs/2410.24132)."
   ]
  },
  {
   "cell_type": "code",
   "execution_count": null,
   "id": "58100cea",
   "metadata": {},
   "outputs": [],
   "source": [
    "import matplotlib.pyplot as plt\n",
    "import numpy as onp\n",
    "from skimage import measure\n",
    "from totypes import json_utils\n",
    "\n",
    "\n",
    "files = [\n",
    "    \"240710_mfschubert_f86277871e4c38c9e6209938acee7f3c8de2cd476fd52e59a6d35e204ed81f49.json\",\n",
    "    \"240710_mfschubert_52e918ac1c6e90bb23d24f8bb3714a582e4fe897675321a343e7fd9b48a34b07.json\",\n",
    "    \"240710_mfschubert_a33070d2d053e3b278056e6bcd387b552e2cd619f8096ac306c3604386b27fe1.json\",\n",
    "]\n",
    "\n",
    "def load_design(file):\n",
    "    with open(f\"../../../reference_designs/metagrating/{file}\", \"r\") as f:\n",
    "        serialized = f.read()\n",
    "    params = json_utils.pytree_from_json(serialized)\n",
    "    return params\n",
    "\n",
    "designs = [load_design(file) for file in files]\n",
    "\n",
    "plt.figure(figsize=(7, 4))\n",
    "for i, design in enumerate(designs):\n",
    "    ax = plt.subplot(1, 3, i + 1)\n",
    "    im = ax.imshow(1 - design.array, cmap=\"gray\")\n",
    "    im.set_clim([-2, 1])\n",
    "    contours = measure.find_contours(design.array)\n",
    "    for c in contours:\n",
    "        plt.plot(c[:, 1], c[:, 0], \"k\", lw=1)\n",
    "    ax.set_xticks([])\n",
    "    ax.set_yticks([])"
   ]
  },
  {
   "cell_type": "markdown",
   "id": "11568008",
   "metadata": {},
   "source": [
    "Now, we'll create a `metagrating` challenge, which provides everything we need to simulate and optimize the metagrating."
   ]
  },
  {
   "cell_type": "code",
   "execution_count": null,
   "id": "fed8a965",
   "metadata": {},
   "outputs": [],
   "source": [
    "from invrs_gym import challenges\n",
    "\n",
    "challenge = challenges.metagrating()"
   ]
  },
  {
   "cell_type": "code",
   "execution_count": null,
   "id": "8c35a8ad",
   "metadata": {},
   "outputs": [],
   "source": [
    "# Perform simulation using component response method.\n",
    "response, aux = challenge.component.response(params=designs[0])"
   ]
  },
  {
   "cell_type": "markdown",
   "id": "e8b6019b",
   "metadata": {},
   "source": [
    "The `response` contains the transmission and reflection efficiency into each diffraction order, and for TE- and TM-polarized cases. However, we only care about TM diffraction into the +1 order. Fortunately, the `challenge` has a `metrics` method that extracts this value."
   ]
  },
  {
   "cell_type": "code",
   "execution_count": null,
   "id": "29b3a077",
   "metadata": {},
   "outputs": [],
   "source": [
    "metrics = challenge.metrics(response, params=designs[0], aux=aux)\n",
    "print(f\"TM transmission into +1 order: {metrics['average_efficiency'] * 100:.1f}%\")"
   ]
  },
  {
   "cell_type": "markdown",
   "id": "7f18842e",
   "metadata": {},
   "source": [
    "Apparently, this is a design with extremely high efficiency.\n",
    "\n",
    "Now let's take a look at the remaining designs."
   ]
  },
  {
   "cell_type": "code",
   "execution_count": null,
   "id": "58b02ecc",
   "metadata": {},
   "outputs": [],
   "source": [
    "for i, design in enumerate(designs):\n",
    "    response, aux = challenge.component.response(params=design)\n",
    "    metrics = challenge.metrics(response, params=design, aux=aux)\n",
    "    print(\n",
    "        f\"design {i + 1}: TM transmission into +1 order: {metrics['average_efficiency'] * 100:.1f}%\"\n",
    "    )"
   ]
  },
  {
   "cell_type": "markdown",
   "id": "973fc4bf",
   "metadata": {},
   "source": [
    "The efficiency is lower for the second and third designs; this is expected, as the feature within these designs are larger compared to the first design."
   ]
  }
 ],
 "metadata": {
  "kernelspec": {
   "display_name": "invrs",
   "language": "python",
   "name": "python3"
  },
  "language_info": {
   "codemirror_mode": {
    "name": "ipython",
    "version": 3
   },
   "file_extension": ".py",
   "mimetype": "text/x-python",
   "name": "python",
   "nbconvert_exporter": "python",
   "pygments_lexer": "ipython3",
   "version": "3.10.12"
  }
 },
 "nbformat": 4,
 "nbformat_minor": 5
}
