{
 "cells": [
  {
   "cell_type": "markdown",
   "id": "b8fe57bf",
   "metadata": {},
   "source": [
    "# Diffractive splitter"
   ]
  },
  {
   "cell_type": "markdown",
   "id": "776ccdc8",
   "metadata": {},
   "source": [
    "The diffractive splitter challenge entails designing a metasurface that evenly splits a normally-incident plane wave into a 7x7 array of beams. Light is incident from the ambient, with the substrate and the metasurface pattern being silicon oxide. The operating wavelength is 732.8 nm, and the unit cell pitch is 7.2 microns, corresponding to diffraction angles of ±15 degrees. The challenge is based on \"[Design and rigorous analysis of a non-paraxial diffractive beamsplitter](https://www.lighttrans.com/fileadmin/shared/UseCases/Application_UC_Rigorous%20Analysis%20of%20Non-paraxial%20Diffractive%20Beam%20Splitter.pdf)\" slide deck retrieved from the LightTrans web site.\n",
    "    "
   ]
  },
  {
   "cell_type": "markdown",
   "id": "c6334d83",
   "metadata": {},
   "source": [
    "## Simulating an existing design\n",
    "\n",
    "We'll begin by loading, visualizing, and simulating several designs from the [invrs-gym paper](https://arxiv.org/abs/2410.24132)."
   ]
  },
  {
   "cell_type": "code",
   "execution_count": null,
   "id": "052ec0cc",
   "metadata": {},
   "outputs": [],
   "source": [
    "import matplotlib.pyplot as plt\n",
    "import numpy as onp\n",
    "from skimage import measure\n",
    "from totypes import json_utils\n",
    "\n",
    "\n",
    "def load_design(file):\n",
    "    path = f\"../../../reference_designs/diffractive_splitter/{file}\"\n",
    "    with open(path, \"r\") as f:\n",
    "        serialized = f.read()\n",
    "    return json_utils.pytree_from_json(serialized)\n",
    "\n",
    "files = [\n",
    "    \"240413_mfschubert_40b6a186a2ad09fe4a4a9e8fbce60f5d38e39bf11f17102c0005612d8eb6df7b.json\",\n",
    "    \"240413_mfschubert_ba86cdee2ff56eb6602b30bc0a87c995d6d4924cdd06fee0e949a9da3590d789.json\",\n",
    "    \"240413_mfschubert_8d45bcf673d167db063065dab04b82a527a1e39e816e984c4ff3b4597ddc525a.json\",\n",
    "]\n",
    "\n",
    "designs = [load_design(file) for file in files]\n",
    "\n",
    "plt.figure(figsize=(8, 4))\n",
    "for i, params in enumerate(designs):\n",
    "    density = params[\"density\"].array\n",
    "    ax = plt.subplot(1, 3, i + 1)\n",
    "    im = ax.imshow(1 - density, cmap=\"gray\")\n",
    "    im.set_clim([-2, 1])\n",
    "    contours = measure.find_contours(density)\n",
    "    for c in contours:\n",
    "        plt.plot(c[:, 1], c[:, 0], \"k\", lw=1)\n",
    "    ax.set_xticks([])\n",
    "    ax.set_yticks([])"
   ]
  },
  {
   "cell_type": "markdown",
   "id": "39095991",
   "metadata": {},
   "source": [
    "While several challenges involve only the design of two-dimensional patterns (with a `Density2DArray` being the optimization variable), the diffractive splitter degrees of freedom include both the metasurface pattern and several film thicknesses, in the form of a `BoundedArray`."
   ]
  },
  {
   "cell_type": "code",
   "execution_count": null,
   "id": "31f77e59",
   "metadata": {},
   "outputs": [],
   "source": [
    "for key, value in designs[0].items():\n",
    "    print(f\"Variable {key}: {type(value)}\")"
   ]
  },
  {
   "cell_type": "markdown",
   "id": "be7c270b",
   "metadata": {},
   "source": [
    "Instantiate the challenge and simulate a design using the `component.response` method."
   ]
  },
  {
   "cell_type": "code",
   "execution_count": null,
   "id": "3364e065",
   "metadata": {},
   "outputs": [],
   "source": [
    "from invrs_gym.challenges.diffract import splitter_challenge\n",
    "\n",
    "challenge = splitter_challenge.diffractive_splitter()\n",
    "\n",
    "response, aux = challenge.component.response(params=designs[0])"
   ]
  },
  {
   "cell_type": "markdown",
   "id": "bde04575",
   "metadata": {},
   "source": [
    "Now let's plot the diffraction efficiency for each order. We use the `extract_orders_for_splitting` function, and get the efficiency for a 9x9 array of beams (even though this design is for a 7x7 splitter). This will let us see how the diffraction efficiency drops off for orders beyond those targeted by the design."
   ]
  },
  {
   "cell_type": "code",
   "execution_count": null,
   "id": "2f883b0f",
   "metadata": {},
   "outputs": [],
   "source": [
    "plt.figure(figsize=(4, 3))\n",
    "\n",
    "splitting = splitter_challenge.extract_orders_for_splitting(\n",
    "    response.transmission_efficiency,\n",
    "    response.expansion,\n",
    "    splitting=(9, 9),\n",
    "    polarization=\"TM\",\n",
    ")\n",
    "\n",
    "ax = plt.subplot(111)\n",
    "im = plt.imshow(splitting * 100, cmap=\"coolwarm\")\n",
    "ax.set_xticks(onp.arange(9))\n",
    "ax.set_yticks(onp.arange(9))\n",
    "ax.set_xticklabels(range(-4, 5))\n",
    "ax.set_yticklabels(range(-4, 5))\n",
    "plt.colorbar(im)\n",
    "im.set_clim([0, onp.amax(splitting * 100)])\n",
    "ax.set_title(\"device1\\nDiffraction efficiency (%)\")\n",
    "_ = ax.set_ylim(ax.get_ylim()[::-1])"
   ]
  },
  {
   "cell_type": "markdown",
   "id": "07acc598",
   "metadata": {},
   "source": [
    "The device appears to have relatively good uniformity and efficiency. This can be quantified musing metrics compute using the challenge `metrics` method."
   ]
  },
  {
   "cell_type": "code",
   "execution_count": null,
   "id": "e1a776f1",
   "metadata": {},
   "outputs": [],
   "source": [
    "print(\"Solution 1 challenge metrics:\")\n",
    "for key, value in challenge.metrics(response, params=params, aux=aux).items():\n",
    "    print(f\"    {key} = {value:.4f}\")"
   ]
  },
  {
   "cell_type": "markdown",
   "id": "fc84a85e",
   "metadata": {},
   "source": [
    "Let's take a look at the remaining devices, which have larger feature sizes. We expect lower performance since the ability to exploit small features should contribute to high performance."
   ]
  },
  {
   "cell_type": "code",
   "execution_count": null,
   "id": "c517bf4b",
   "metadata": {},
   "outputs": [],
   "source": [
    "plt.figure(figsize=(8, 3))\n",
    "for i, params in enumerate(designs[1:]):\n",
    "    response, aux = challenge.component.response(params)\n",
    "\n",
    "    splitting = splitter_challenge.extract_orders_for_splitting(\n",
    "        response.transmission_efficiency,\n",
    "        response.expansion,\n",
    "        splitting=(9, 9),\n",
    "        polarization=\"TM\",\n",
    "    )\n",
    "\n",
    "    ax = plt.subplot(1, 2, i + 1)\n",
    "    im = plt.imshow(splitting * 100, cmap=\"coolwarm\")\n",
    "    ax.set_xticks(onp.arange(9))\n",
    "    ax.set_yticks(onp.arange(9))\n",
    "    ax.set_xticklabels(range(-4, 5))\n",
    "    ax.set_yticklabels(range(-4, 5))\n",
    "    plt.colorbar(im)\n",
    "    im.set_clim([0, onp.amax(splitting * 100)])\n",
    "    ax.set_title(f\"Solution {i + 2}\\nDiffraction efficiency (%)\")\n",
    "    ax.set_ylim(ax.get_ylim()[::-1])"
   ]
  },
  {
   "cell_type": "markdown",
   "id": "e1b9f067",
   "metadata": {},
   "source": [
    "Observe that the symmetry in the layout of the third design results in symmetry in the diffraction efficiencies."
   ]
  }
 ],
 "metadata": {
  "kernelspec": {
   "display_name": "invrs",
   "language": "python",
   "name": "python3"
  },
  "language_info": {
   "codemirror_mode": {
    "name": "ipython",
    "version": 3
   },
   "file_extension": ".py",
   "mimetype": "text/x-python",
   "name": "python",
   "nbconvert_exporter": "python",
   "pygments_lexer": "ipython3",
   "version": "3.10.12"
  }
 },
 "nbformat": 4,
 "nbformat_minor": 5
}
