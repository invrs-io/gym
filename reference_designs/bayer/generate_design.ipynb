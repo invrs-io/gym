{
 "cells": [
  {
   "cell_type": "markdown",
   "metadata": {},
   "source": [
    "This file generates the color router from Supplementary figure 2 of [Pixel-level Bayer-type colour router based on metasurfaces](https://www.nature.com/articles/s41467-022-31019-7) by Zou et al."
   ]
  },
  {
   "cell_type": "code",
   "execution_count": null,
   "metadata": {},
   "outputs": [],
   "source": [
    "import matplotlib.pyplot as plt\n",
    "import numpy as onp\n",
    "from invrs_gym.utils import transforms\n",
    "\n",
    "pattern = \"\"\"0100100000000000\n",
    "    0110001010000000\n",
    "    0000100010000000\n",
    "    0000000000000000\n",
    "    1010000000000000\n",
    "    1000100000000000\n",
    "    0000011000000000\n",
    "    1001000000000110\n",
    "    0011110000000000\n",
    "    1000000001000010\n",
    "    0011000101000000\n",
    "    0110100100100101\n",
    "    0010010110000000\n",
    "    0101110100010010\n",
    "    0010100000000011\n",
    "    0000001010110000\"\"\"\n",
    "\n",
    "design = [[float(i) for i in row.strip()] for row in pattern.split(\"\\n\")]\n",
    "design = onp.asarray(design)[:, ::-1]  # Flip orientation compared to figure.\n",
    "design = onp.kron(design, onp.ones((25, 25))).astype(int)\n",
    "design = transforms.resample(design, (200, 200))\n",
    "\n",
    "plt.imshow(design)\n",
    "\n",
    "onp.savetxt(\"zou.csv\", design, delimiter=\",\", fmt=\"%i\")"
   ]
  }
 ],
 "metadata": {
  "kernelspec": {
   "display_name": "invrs-cpu",
   "language": "python",
   "name": "python3"
  },
  "language_info": {
   "codemirror_mode": {
    "name": "ipython",
    "version": 3
   },
   "file_extension": ".py",
   "mimetype": "text/x-python",
   "name": "python",
   "nbconvert_exporter": "python",
   "pygments_lexer": "ipython3",
   "version": "3.10.12"
  }
 },
 "nbformat": 4,
 "nbformat_minor": 2
}
